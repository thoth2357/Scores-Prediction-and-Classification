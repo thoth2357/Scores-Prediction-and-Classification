{
 "cells": [
  {
   "cell_type": "code",
   "execution_count": 25,
   "metadata": {},
   "outputs": [],
   "source": [
    "#import modules\n",
    "from EDA import Preprocessing\n",
    "import pandas as pd\n",
    "import numpy as np\n",
    "\n",
    "import warnings\n",
    "warnings.filterwarnings('ignore')"
   ]
  },
  {
   "cell_type": "code",
   "execution_count": 26,
   "metadata": {},
   "outputs": [],
   "source": [
    "#read datasets\n",
    "import pandas as pd\n",
    "\n",
    "df_mat = pd.read_csv('/home/pirate/Documents/machine_learning/score_prediction/student/student-mat.csv',sep=';')\n",
    "df_por = pd.read_csv('/home/pirate/Documents/machine_learning/score_prediction/student/student-por.csv',sep=';')\n"
   ]
  },
  {
   "cell_type": "code",
   "execution_count": 27,
   "metadata": {},
   "outputs": [
    {
     "name": "stdout",
     "output_type": "stream",
     "text": [
      "---> We have 382 found in our two datasets\n",
      "\n",
      "---> Merging datasets and removing duplicates\n",
      "\n",
      "---> After merging and removing duplicates we have 662 unique rows\n"
     ]
    }
   ],
   "source": [
    "#Handling duplicates found in datasets\n",
    "df_merged=df_mat.append(df_por, ignore_index=True)\n",
    "no_of_duplicates = df_merged.duplicated([\"school\",\"sex\",\"age\",\"address\",\"famsize\",\"Pstatus\",\"Medu\",\"Fedu\",\"Mjob\",\"Fjob\",\"reason\",\"nursery\",\"internet\"]).sum()\n",
    "print(f'---> We have {no_of_duplicates} found in our two datasets\\n')\n",
    "\n",
    "print('---> Merging datasets and removing duplicates\\n')\n",
    "df_merged.drop_duplicates(subset=[\"school\",\"sex\",\"age\",\"address\",\"famsize\",\"Pstatus\",\"Medu\",\"Fedu\",\"Mjob\",\"Fjob\",\"reason\",\"nursery\",\"internet\"],\n",
    "                 keep = 'first', inplace = True)\n",
    "\n",
    "print(f'---> After merging and removing duplicates we have {len(df_merged)} unique rows')\n"
   ]
  },
  {
   "cell_type": "code",
   "execution_count": 28,
   "metadata": {},
   "outputs": [
    {
     "name": "stderr",
     "output_type": "stream",
     "text": [
      "WARNING:root:No Missing Value was found data is clean and ready to use\n"
     ]
    }
   ],
   "source": [
    "# performing EDA\n",
    "#check for missing values\n",
    "Preprocessing(df_merged).check_missing_value()"
   ]
  }
 ],
 "metadata": {
  "interpreter": {
   "hash": "f9013e23377c4df86dc09c341e3e8e9dd81c02c4de203807e1a62a3a9bc38c81"
  },
  "kernelspec": {
   "display_name": "Python 3.9.7 ('base')",
   "language": "python",
   "name": "python3"
  },
  "language_info": {
   "codemirror_mode": {
    "name": "ipython",
    "version": 3
   },
   "file_extension": ".py",
   "mimetype": "text/x-python",
   "name": "python",
   "nbconvert_exporter": "python",
   "pygments_lexer": "ipython3",
   "version": "3.9.7"
  },
  "orig_nbformat": 4
 },
 "nbformat": 4,
 "nbformat_minor": 2
}
