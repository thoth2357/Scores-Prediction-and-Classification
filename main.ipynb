{
 "cells": [
  {
   "cell_type": "code",
   "execution_count": 198,
   "metadata": {},
   "outputs": [],
   "source": [
    "#import modules\n",
    "from EDA import Preprocessing\n",
    "import pandas as pd\n",
    "import seaborn as sns\n",
    "import numpy as np\n",
    "import matplotlib.pyplot as plt\n",
    "import warnings\n",
    "warnings.filterwarnings('ignore')\n",
    "\n",
    "from sklearn.compose import make_column_selector as selector\n",
    "from sklearn.preprocessing import OrdinalEncoder\n",
    "from sklearn.model_selection import train_test_split\n",
    "from sklearn.ensemble import RandomForestRegressor, RandomForestClassifier\n",
    "from sklearn.model_selection import RandomizedSearchCV\n",
    "from sklearn import metrics\n",
    "from sklearn.metrics import accuracy_score, confusion_matrix, classification_report\n",
    "from sklearn.neural_network import MLPClassifier\n",
    "from IPython.display import display\n",
    "from imblearn.over_sampling import SMOTE\n",
    "\n",
    "from sklearn.svm import SVC"
   ]
  },
  {
   "cell_type": "code",
   "execution_count": 199,
   "metadata": {},
   "outputs": [],
   "source": [
    "#read datasets\n",
    "import pandas as pd\n",
    "\n",
    "df_mat = pd.read_csv('/home/pirate/Documents/machine_learning/score_prediction/student/student-mat.csv',sep=';')\n",
    "df_por = pd.read_csv('/home/pirate/Documents/machine_learning/score_prediction/student/student-por.csv',sep=';')\n"
   ]
  },
  {
   "cell_type": "code",
   "execution_count": 200,
   "metadata": {},
   "outputs": [
    {
     "name": "stdout",
     "output_type": "stream",
     "text": [
      "---> We have 382 found in our two datasets\n",
      "\n",
      "---> Merging datasets and removing duplicates\n",
      "\n",
      "---> After merging and removing duplicates we have 662 unique rows\n"
     ]
    }
   ],
   "source": [
    "#Handling duplicates found in datasets\n",
    "df_merged=df_mat.append(df_por, ignore_index=True)\n",
    "no_of_duplicates = df_merged.duplicated([\"school\",\"sex\",\"age\",\"address\",\"famsize\",\"Pstatus\",\"Medu\",\"Fedu\",\"Mjob\",\"Fjob\",\"reason\",\"nursery\",\"internet\"]).sum()\n",
    "print(f'---> We have {no_of_duplicates} duplicates found in our two datasets\\n')\n",
    "\n",
    "print('---> Merging datasets and removing duplicates\\n')\n",
    "df_merged.drop_duplicates(subset=[\"school\",\"sex\",\"age\",\"address\",\"famsize\",\"Pstatus\",\"Medu\",\"Fedu\",\"Mjob\",\"Fjob\",\"reason\",\"nursery\",\"internet\"],\n",
    "                 keep = 'first', inplace = True)\n",
    "\n",
    "print(f'---> After merging and removing duplicates we have {len(df_merged)} unique rows')"
   ]
  },
  {
   "cell_type": "code",
   "execution_count": 201,
   "metadata": {},
   "outputs": [
    {
     "name": "stdout",
     "output_type": "stream",
     "text": [
      "---> No Missing Value was found data is clean and ready to use\n",
      "---> Showing descriptive statistics of the dataset\n",
      "               age        Medu        Fedu  traveltime   studytime  \\\n",
      "count   662.000000  662.000000  662.000000  662.000000  662.000000   \n",
      "mean     16.812689    2.492447    2.293051    1.564955    1.927492   \n",
      "std       1.269194    1.130958    1.094027    0.742799    0.827405   \n",
      "min      15.000000    0.000000    0.000000    1.000000    1.000000   \n",
      "25%      16.000000    2.000000    1.000000    1.000000    1.000000   \n",
      "50%      17.000000    2.000000    2.000000    1.000000    2.000000   \n",
      "75%      18.000000    4.000000    3.000000    2.000000    2.000000   \n",
      "max      22.000000    4.000000    4.000000    4.000000    4.000000   \n",
      "median   17.000000    2.000000    2.000000    1.000000    2.000000   \n",
      "skew      0.422084   -0.006391    0.233855    1.253308    0.698354   \n",
      "kurt     -0.031293   -1.254753   -1.088070    1.164596    0.039527   \n",
      "\n",
      "          failures      famrel    freetime       goout        Dalc  \\\n",
      "count   662.000000  662.000000  662.000000  662.000000  662.000000   \n",
      "mean      0.332326    3.938066    3.184290    3.172205    1.504532   \n",
      "std       0.716024    0.941930    1.060583    1.161907    0.926567   \n",
      "min       0.000000    1.000000    1.000000    1.000000    1.000000   \n",
      "25%       0.000000    4.000000    3.000000    2.000000    1.000000   \n",
      "50%       0.000000    4.000000    3.000000    3.000000    1.000000   \n",
      "75%       0.000000    5.000000    4.000000    4.000000    2.000000   \n",
      "max       3.000000    5.000000    5.000000    5.000000    5.000000   \n",
      "median    0.000000    4.000000    3.000000    3.000000    1.000000   \n",
      "skew      2.363761   -1.107387   -0.189793   -0.002315    2.121290   \n",
      "kurt      5.113053    1.416695   -0.431887   -0.833895    4.231877   \n",
      "\n",
      "              Walc      health    absences          G1          G2          G3  \n",
      "count   662.000000  662.000000  662.000000  662.000000  662.000000  662.000000  \n",
      "mean      2.282477    3.531722    4.930514   10.728097   10.708459   10.725076  \n",
      "std       1.290121    1.434835    6.858060    3.082098    3.529588    4.106738  \n",
      "min       1.000000    1.000000    0.000000    3.000000    0.000000    0.000000  \n",
      "25%       1.000000    2.000000    0.000000    8.000000    9.000000    9.000000  \n",
      "50%       2.000000    4.000000    3.000000   10.000000   11.000000   11.000000  \n",
      "75%       3.000000    5.000000    8.000000   13.000000   13.000000   13.000000  \n",
      "max       5.000000    5.000000   75.000000   19.000000   19.000000   20.000000  \n",
      "median    2.000000    4.000000    3.000000   10.000000   11.000000   11.000000  \n",
      "skew      0.624529   -0.492264    3.843050    0.303780   -0.415990   -0.805366  \n",
      "kurt     -0.800780   -1.102938   26.207011   -0.444839    1.008060    1.109024  \n"
     ]
    }
   ],
   "source": [
    "                    # PERFORMING EDA\n",
    "preprocessor = Preprocessing(df_merged)\n",
    "#check for missing values\n",
    "df = preprocessor.check_missing_value()\n",
    "\n",
    "#check dataset descriptives\n",
    "preprocessor.descriptives(df)\n",
    "\n",
    "#perform data exploration\n",
    "##separating dataset into categorical and continuous columns\n",
    "numerical_columns_selector = selector(dtype_exclude=object)\n",
    "categorical_columns_selector = selector(dtype_include=object)\n",
    "continous_columns = numerical_columns_selector(df)\n",
    "categorical_columns = categorical_columns_selector(df)\n",
    "\n",
    "feature_list = list(df.columns)\n"
   ]
  },
  {
   "cell_type": "code",
   "execution_count": 202,
   "metadata": {},
   "outputs": [
    {
     "data": {
      "image/png": "[encoded data removed]",
      "text/plain": [
       "<Figure size 432x288 with 1 Axes>"
      ]
     },
     "metadata": {
      "needs_background": "light"
     },
     "output_type": "display_data"
    },
    {
     "data": {
      "image/png": "[encoded data removed]",
      "text/plain": [
       "<Figure size 432x288 with 1 Axes>"
      ]
     },
     "metadata": {
      "needs_background": "light"
     },
     "output_type": "display_data"
    },
    {
     "data": {
      "image/png": "[encoded data removed]",
      "text/plain": [
       "<Figure size 432x288 with 1 Axes>"
      ]
     },
     "metadata": {
      "needs_background": "light"
     },
     "output_type": "display_data"
    },
    {
     "data": {
      "image/png": "[encoded data removed]",
      "text/plain": [
       "<Figure size 432x360 with 2 Axes>"
      ]
     },
     "metadata": {
      "needs_background": "light"
     },
     "output_type": "display_data"
    },
    {
     "data": {
      "image/png": "[encoded data removed]",
      "text/plain": [
       "<Figure size 432x288 with 1 Axes>"
      ]
     },
     "metadata": {
      "needs_background": "light"
     },
     "output_type": "display_data"
    }
   ],
   "source": [
    "colors = sns.color_palette('pastel')[0:5]\n",
    "\n",
    "#performing counts of catgorical variable levels for some variables\n",
    "# sex_count_table = pd.crosstab(index=df['sex'], columns='freq')\n",
    "sns.countplot(x ='sex', data = df)\n",
    "plt.show()\n",
    "\n",
    "sns.boxplot(x ='guardian', y ='studytime', data = df, hue ='sex')\n",
    "plt.show()\n",
    "\n",
    "sns.stripplot(x ='school', y ='G3', data = df, jitter = True, hue ='sex', dodge = True)\n",
    "plt.show()\n",
    "\n",
    "sns.pairplot(df, hue =\"sex\", palette ='coolwarm')\n",
    "plt.show()\n",
    "\n",
    "g = sns.catplot(x='guardian',y='studytime', col = 'romantic', data=df,\n",
    "                kind='bar', aspect=.6, palette='Set2')\n",
    "(g.set_axis_labels(\"Guardian\", \"Study Time\")\n",
    "  .set_titles(\"relationship : {col_name}\"))\n",
    "plt.show()\n",
    "\n",
    "sns.barplot(x='internet',y='G3',data=df, palette='rainbow', hue='sex')\n",
    "plt.show()\n"
   ]
  },
  {
   "cell_type": "code",
   "execution_count": 203,
   "metadata": {},
   "outputs": [
    {
     "name": "stdout",
     "output_type": "stream",
     "text": [
      "Performing EnCoding Of Categorical variables\n"
     ]
    },
    {
     "data": {
      "text/html": [
       "<div>\n",
       "<style scoped>\n",
       "    .dataframe tbody tr th:only-of-type {\n",
       "        vertical-align: middle;\n",
       "    }\n",
       "\n",
       "    .dataframe tbody tr th {\n",
       "        vertical-align: top;\n",
       "    }\n",
       "\n",
       "    .dataframe thead th {\n",
       "        text-align: right;\n",
       "    }\n",
       "</style>\n",
       "<table border=\"1\" class=\"dataframe\">\n",
       "  <thead>\n",
       "    <tr style=\"text-align: right;\">\n",
       "      <th></th>\n",
       "      <th>school</th>\n",
       "      <th>sex</th>\n",
       "      <th>age</th>\n",
       "      <th>address</th>\n",
       "      <th>famsize</th>\n",
       "      <th>Pstatus</th>\n",
       "      <th>Medu</th>\n",
       "      <th>Fedu</th>\n",
       "      <th>Mjob</th>\n",
       "      <th>Fjob</th>\n",
       "      <th>...</th>\n",
       "      <th>famrel</th>\n",
       "      <th>freetime</th>\n",
       "      <th>goout</th>\n",
       "      <th>Dalc</th>\n",
       "      <th>Walc</th>\n",
       "      <th>health</th>\n",
       "      <th>absences</th>\n",
       "      <th>G1</th>\n",
       "      <th>G2</th>\n",
       "      <th>G3</th>\n",
       "    </tr>\n",
       "  </thead>\n",
       "  <tbody>\n",
       "    <tr>\n",
       "      <th>0</th>\n",
       "      <td>0.0</td>\n",
       "      <td>0.0</td>\n",
       "      <td>18</td>\n",
       "      <td>1.0</td>\n",
       "      <td>0.0</td>\n",
       "      <td>0.0</td>\n",
       "      <td>4</td>\n",
       "      <td>4</td>\n",
       "      <td>0.0</td>\n",
       "      <td>4.0</td>\n",
       "      <td>...</td>\n",
       "      <td>4</td>\n",
       "      <td>3</td>\n",
       "      <td>4</td>\n",
       "      <td>1</td>\n",
       "      <td>1</td>\n",
       "      <td>3</td>\n",
       "      <td>6</td>\n",
       "      <td>5</td>\n",
       "      <td>6</td>\n",
       "      <td>6</td>\n",
       "    </tr>\n",
       "    <tr>\n",
       "      <th>1</th>\n",
       "      <td>0.0</td>\n",
       "      <td>0.0</td>\n",
       "      <td>17</td>\n",
       "      <td>1.0</td>\n",
       "      <td>0.0</td>\n",
       "      <td>1.0</td>\n",
       "      <td>1</td>\n",
       "      <td>1</td>\n",
       "      <td>0.0</td>\n",
       "      <td>2.0</td>\n",
       "      <td>...</td>\n",
       "      <td>5</td>\n",
       "      <td>3</td>\n",
       "      <td>3</td>\n",
       "      <td>1</td>\n",
       "      <td>1</td>\n",
       "      <td>3</td>\n",
       "      <td>4</td>\n",
       "      <td>5</td>\n",
       "      <td>5</td>\n",
       "      <td>6</td>\n",
       "    </tr>\n",
       "    <tr>\n",
       "      <th>2</th>\n",
       "      <td>0.0</td>\n",
       "      <td>0.0</td>\n",
       "      <td>15</td>\n",
       "      <td>1.0</td>\n",
       "      <td>1.0</td>\n",
       "      <td>1.0</td>\n",
       "      <td>1</td>\n",
       "      <td>1</td>\n",
       "      <td>0.0</td>\n",
       "      <td>2.0</td>\n",
       "      <td>...</td>\n",
       "      <td>4</td>\n",
       "      <td>3</td>\n",
       "      <td>2</td>\n",
       "      <td>2</td>\n",
       "      <td>3</td>\n",
       "      <td>3</td>\n",
       "      <td>10</td>\n",
       "      <td>7</td>\n",
       "      <td>8</td>\n",
       "      <td>10</td>\n",
       "    </tr>\n",
       "    <tr>\n",
       "      <th>3</th>\n",
       "      <td>0.0</td>\n",
       "      <td>0.0</td>\n",
       "      <td>15</td>\n",
       "      <td>1.0</td>\n",
       "      <td>0.0</td>\n",
       "      <td>1.0</td>\n",
       "      <td>4</td>\n",
       "      <td>2</td>\n",
       "      <td>1.0</td>\n",
       "      <td>3.0</td>\n",
       "      <td>...</td>\n",
       "      <td>3</td>\n",
       "      <td>2</td>\n",
       "      <td>2</td>\n",
       "      <td>1</td>\n",
       "      <td>1</td>\n",
       "      <td>5</td>\n",
       "      <td>2</td>\n",
       "      <td>15</td>\n",
       "      <td>14</td>\n",
       "      <td>15</td>\n",
       "    </tr>\n",
       "    <tr>\n",
       "      <th>4</th>\n",
       "      <td>0.0</td>\n",
       "      <td>0.0</td>\n",
       "      <td>16</td>\n",
       "      <td>1.0</td>\n",
       "      <td>0.0</td>\n",
       "      <td>1.0</td>\n",
       "      <td>3</td>\n",
       "      <td>3</td>\n",
       "      <td>2.0</td>\n",
       "      <td>2.0</td>\n",
       "      <td>...</td>\n",
       "      <td>4</td>\n",
       "      <td>3</td>\n",
       "      <td>2</td>\n",
       "      <td>1</td>\n",
       "      <td>2</td>\n",
       "      <td>5</td>\n",
       "      <td>4</td>\n",
       "      <td>6</td>\n",
       "      <td>10</td>\n",
       "      <td>10</td>\n",
       "    </tr>\n",
       "    <tr>\n",
       "      <th>5</th>\n",
       "      <td>0.0</td>\n",
       "      <td>1.0</td>\n",
       "      <td>16</td>\n",
       "      <td>1.0</td>\n",
       "      <td>1.0</td>\n",
       "      <td>1.0</td>\n",
       "      <td>4</td>\n",
       "      <td>3</td>\n",
       "      <td>3.0</td>\n",
       "      <td>2.0</td>\n",
       "      <td>...</td>\n",
       "      <td>5</td>\n",
       "      <td>4</td>\n",
       "      <td>2</td>\n",
       "      <td>1</td>\n",
       "      <td>2</td>\n",
       "      <td>5</td>\n",
       "      <td>10</td>\n",
       "      <td>15</td>\n",
       "      <td>15</td>\n",
       "      <td>15</td>\n",
       "    </tr>\n",
       "    <tr>\n",
       "      <th>6</th>\n",
       "      <td>0.0</td>\n",
       "      <td>1.0</td>\n",
       "      <td>16</td>\n",
       "      <td>1.0</td>\n",
       "      <td>1.0</td>\n",
       "      <td>1.0</td>\n",
       "      <td>2</td>\n",
       "      <td>2</td>\n",
       "      <td>2.0</td>\n",
       "      <td>2.0</td>\n",
       "      <td>...</td>\n",
       "      <td>4</td>\n",
       "      <td>4</td>\n",
       "      <td>4</td>\n",
       "      <td>1</td>\n",
       "      <td>1</td>\n",
       "      <td>3</td>\n",
       "      <td>0</td>\n",
       "      <td>12</td>\n",
       "      <td>12</td>\n",
       "      <td>11</td>\n",
       "    </tr>\n",
       "    <tr>\n",
       "      <th>7</th>\n",
       "      <td>0.0</td>\n",
       "      <td>0.0</td>\n",
       "      <td>17</td>\n",
       "      <td>1.0</td>\n",
       "      <td>0.0</td>\n",
       "      <td>0.0</td>\n",
       "      <td>4</td>\n",
       "      <td>4</td>\n",
       "      <td>2.0</td>\n",
       "      <td>4.0</td>\n",
       "      <td>...</td>\n",
       "      <td>4</td>\n",
       "      <td>1</td>\n",
       "      <td>4</td>\n",
       "      <td>1</td>\n",
       "      <td>1</td>\n",
       "      <td>1</td>\n",
       "      <td>6</td>\n",
       "      <td>6</td>\n",
       "      <td>5</td>\n",
       "      <td>6</td>\n",
       "    </tr>\n",
       "    <tr>\n",
       "      <th>8</th>\n",
       "      <td>0.0</td>\n",
       "      <td>1.0</td>\n",
       "      <td>15</td>\n",
       "      <td>1.0</td>\n",
       "      <td>1.0</td>\n",
       "      <td>0.0</td>\n",
       "      <td>3</td>\n",
       "      <td>2</td>\n",
       "      <td>3.0</td>\n",
       "      <td>2.0</td>\n",
       "      <td>...</td>\n",
       "      <td>4</td>\n",
       "      <td>2</td>\n",
       "      <td>2</td>\n",
       "      <td>1</td>\n",
       "      <td>1</td>\n",
       "      <td>1</td>\n",
       "      <td>0</td>\n",
       "      <td>16</td>\n",
       "      <td>18</td>\n",
       "      <td>19</td>\n",
       "    </tr>\n",
       "    <tr>\n",
       "      <th>9</th>\n",
       "      <td>0.0</td>\n",
       "      <td>1.0</td>\n",
       "      <td>15</td>\n",
       "      <td>1.0</td>\n",
       "      <td>0.0</td>\n",
       "      <td>1.0</td>\n",
       "      <td>3</td>\n",
       "      <td>4</td>\n",
       "      <td>2.0</td>\n",
       "      <td>2.0</td>\n",
       "      <td>...</td>\n",
       "      <td>5</td>\n",
       "      <td>5</td>\n",
       "      <td>1</td>\n",
       "      <td>1</td>\n",
       "      <td>1</td>\n",
       "      <td>5</td>\n",
       "      <td>0</td>\n",
       "      <td>14</td>\n",
       "      <td>15</td>\n",
       "      <td>15</td>\n",
       "    </tr>\n",
       "  </tbody>\n",
       "</table>\n",
       "<p>10 rows × 33 columns</p>\n",
       "</div>"
      ],
      "text/plain": [
       "   school  sex  age  address  famsize  Pstatus  Medu  Fedu  Mjob  Fjob  ...  \\\n",
       "0     0.0  0.0   18      1.0      0.0      0.0     4     4   0.0   4.0  ...   \n",
       "1     0.0  0.0   17      1.0      0.0      1.0     1     1   0.0   2.0  ...   \n",
       "2     0.0  0.0   15      1.0      1.0      1.0     1     1   0.0   2.0  ...   \n",
       "3     0.0  0.0   15      1.0      0.0      1.0     4     2   1.0   3.0  ...   \n",
       "4     0.0  0.0   16      1.0      0.0      1.0     3     3   2.0   2.0  ...   \n",
       "5     0.0  1.0   16      1.0      1.0      1.0     4     3   3.0   2.0  ...   \n",
       "6     0.0  1.0   16      1.0      1.0      1.0     2     2   2.0   2.0  ...   \n",
       "7     0.0  0.0   17      1.0      0.0      0.0     4     4   2.0   4.0  ...   \n",
       "8     0.0  1.0   15      1.0      1.0      0.0     3     2   3.0   2.0  ...   \n",
       "9     0.0  1.0   15      1.0      0.0      1.0     3     4   2.0   2.0  ...   \n",
       "\n",
       "   famrel  freetime  goout  Dalc  Walc  health  absences  G1  G2  G3  \n",
       "0       4         3      4     1     1       3         6   5   6   6  \n",
       "1       5         3      3     1     1       3         4   5   5   6  \n",
       "2       4         3      2     2     3       3        10   7   8  10  \n",
       "3       3         2      2     1     1       5         2  15  14  15  \n",
       "4       4         3      2     1     2       5         4   6  10  10  \n",
       "5       5         4      2     1     2       5        10  15  15  15  \n",
       "6       4         4      4     1     1       3         0  12  12  11  \n",
       "7       4         1      4     1     1       1         6   6   5   6  \n",
       "8       4         2      2     1     1       1         0  16  18  19  \n",
       "9       5         5      1     1     1       5         0  14  15  15  \n",
       "\n",
       "[10 rows x 33 columns]"
      ]
     },
     "execution_count": 203,
     "metadata": {},
     "output_type": "execute_result"
    }
   ],
   "source": [
    "#DATASET ENCODING OF CATEGORICAL VARIABLES\n",
    "df_copy = df.copy() #copying the dataset to preserve original copy\n",
    "ord_enc = OrdinalEncoder() #encoder object\n",
    "\n",
    "#looping through all the categorical columns initailly found and applying encoding on it\n",
    "print('Performing EnCoding Of Categorical variables')\n",
    "for col in categorical_columns:\n",
    "    df_copy[col] = ord_enc.fit_transform(df_copy[[col]])\n",
    "df_copy.head(10)"
   ]
  },
  {
   "cell_type": "code",
   "execution_count": 204,
   "metadata": {},
   "outputs": [
    {
     "name": "stdout",
     "output_type": "stream",
     "text": [
      "shape of original dataset : (662, 33)\n",
      "shape of input - training set (529, 32)\n",
      "shape of output - training set (529,)\n",
      "shape of input - testing set (133, 32)\n",
      "shape of output - testing set (133,)\n"
     ]
    }
   ],
   "source": [
    "                        #REGRESSION\n",
    "#splitting datasets into dependent and independent variables\n",
    "X = df_copy.drop('G3',axis=1)\n",
    "Y = df_copy['G3']\n",
    "\n",
    "#splitting X, Y into train and test (80:20) ratio\n",
    "x_train,x_test,y_train,y_test=train_test_split(X,Y,test_size=0.2)\n",
    "\n",
    "# Convert to numpy array\n",
    "X = np.array(X)\n",
    "\n",
    "#show summary of splitted datasets\n",
    "print(\"shape of original dataset :\", df_copy.shape)\n",
    "print(\"shape of input - training set\", x_train.shape)\n",
    "print(\"shape of output - training set\", y_train.shape)\n",
    "print(\"shape of input - testing set\", x_test.shape)\n",
    "print(\"shape of output - testing set\", y_test.shape)"
   ]
  },
  {
   "cell_type": "code",
   "execution_count": 205,
   "metadata": {},
   "outputs": [
    {
     "name": "stdout",
     "output_type": "stream",
     "text": [
      "Mean Absolute Error: 0.9627819548872182\n",
      "Mean Squared Error: 2.1474624060150376\n",
      "Root Mean Squared Error: 1.4654222620170057\n",
      "Accuracy: -inf\n",
      "Variable: G2                   Importance: 0.81\n",
      "Variable: absences             Importance: 0.07\n",
      "Variable: age                  Importance: 0.01\n",
      "Variable: reason               Importance: 0.01\n",
      "Variable: guardian             Importance: 0.01\n",
      "Variable: studytime            Importance: 0.01\n",
      "Variable: activities           Importance: 0.01\n",
      "Variable: famrel               Importance: 0.01\n",
      "Variable: freetime             Importance: 0.01\n",
      "Variable: health               Importance: 0.01\n",
      "Variable: G1                   Importance: 0.01\n",
      "Variable: school               Importance: 0.0\n",
      "Variable: sex                  Importance: 0.0\n",
      "Variable: address              Importance: 0.0\n",
      "Variable: famsize              Importance: 0.0\n",
      "Variable: Pstatus              Importance: 0.0\n",
      "Variable: Medu                 Importance: 0.0\n",
      "Variable: Fedu                 Importance: 0.0\n",
      "Variable: Mjob                 Importance: 0.0\n",
      "Variable: Fjob                 Importance: 0.0\n",
      "Variable: traveltime           Importance: 0.0\n",
      "Variable: failures             Importance: 0.0\n",
      "Variable: schoolsup            Importance: 0.0\n",
      "Variable: famsup               Importance: 0.0\n",
      "Variable: paid                 Importance: 0.0\n",
      "Variable: nursery              Importance: 0.0\n",
      "Variable: higher               Importance: 0.0\n",
      "Variable: internet             Importance: 0.0\n",
      "Variable: romantic             Importance: 0.0\n",
      "Variable: goout                Importance: 0.0\n",
      "Variable: Dalc                 Importance: 0.0\n",
      "Variable: Walc                 Importance: 0.0\n"
     ]
    },
    {
     "data": {
      "image/png": "[encoded data removed]",
      "text/plain": [
       "<Figure size 432x288 with 1 Axes>"
      ]
     },
     "metadata": {
      "needs_background": "light"
     },
     "output_type": "display_data"
    }
   ],
   "source": [
    "                            # Random Forest Regression\n",
    "regressor = RandomForestRegressor(n_estimators = 20, random_state = 0)\n",
    "\n",
    "# fit the regressor with x and y data\n",
    "regressor.fit(x_train, y_train)\n",
    "\n",
    "# Use the forest's predict method on the test data\n",
    "y_pred = regressor.predict(x_test)\n",
    "# Metrics\n",
    "errors = abs(y_pred - y_test)\n",
    "mape = 100 * np.mean(errors / y_test)\n",
    "accuracy = 100 - mape\n",
    "print('Mean Absolute Error:', metrics.mean_absolute_error(y_test, y_pred))\n",
    "print('Mean Squared Error:', metrics.mean_squared_error(y_test, y_pred))\n",
    "print('Root Mean Squared Error:', np.sqrt(metrics.mean_squared_error(y_test, y_pred)))\n",
    "print('Accuracy:', accuracy)\n",
    "\n",
    "# # Get numerical feature importances\n",
    "importances = list(regressor.feature_importances_)\n",
    "feature_importances = [(feature, round(importance, 2)) for feature, importance in zip(feature_list, importances)]\n",
    "feature_importances = sorted(feature_importances, key = lambda x: x[1], reverse = True)\n",
    "# # Print out the feature and importances and plot them\n",
    "x, y = zip(*feature_importances)\n",
    "plt.xticks(rotation=90)\n",
    "plt.bar(x, y)\n",
    "[print('Variable: {:20} Importance: {}'.format(*pair)) for pair in feature_importances];"
   ]
  },
  {
   "cell_type": "code",
   "execution_count": 206,
   "metadata": {},
   "outputs": [
    {
     "data": {
      "image/png": "[encoded data removed]",
      "text/plain": [
       "<Figure size 432x288 with 1 Axes>"
      ]
     },
     "metadata": {
      "needs_background": "light"
     },
     "output_type": "display_data"
    }
   ],
   "source": [
    "                            #CLASSIFICATION\n",
    "#DIVIDE GRADE G3 INTO CLASSES \n",
    "\"\"\"\n",
    "'Low' :- greater than 0 upto 6\n",
    "'Medium' :- greater than 6 upto 14\n",
    "'High' :- greater than 14 upto 20\n",
    "\"\"\"\n",
    "df_copy['G3_Class'] = pd.cut(x=df_copy['G3'], bins=[0,6,14,20], labels=['Low', 'Medium', 'High'])\n",
    "# df_copy.head(20)\n",
    "\n",
    "#plotting for class imbalance\n",
    "sns.countplot('G3_Class', data=df_copy)\n",
    "\n",
    "#class count\n",
    "count_class_medium, count_class_high, count_class_low = df_copy['G3_Class'].value_counts()\n",
    "\n",
    "# Divide by class\n",
    "class_low = df_copy[df_copy['G3_Class'] == 'Low']\n",
    "class_medium = df_copy[df_copy['G3_Class'] == 'Medium']\n",
    "class_high = df_copy[df_copy['G3_Class'] == 'High']\n"
   ]
  },
  {
   "cell_type": "code",
   "execution_count": 207,
   "metadata": {},
   "outputs": [
    {
     "name": "stdout",
     "output_type": "stream",
     "text": [
      "Performing Over sampling technique to increase low class to medium class size while maintaining high class value\n",
      "Low       480\n",
      "Medium    480\n",
      "High      113\n",
      "Name: G3_Class, dtype: int64 \n",
      "\n",
      "Performing Over sampling technique to increase low class to medium class size while maintaining high class value\n",
      "Low       480\n",
      "Medium    480\n",
      "High      480\n",
      "Name: G3_Class, dtype: int64 \n",
      "\n"
     ]
    },
    {
     "data": {
      "image/png": "[encoded data removed]",
      "text/plain": [
       "<Figure size 432x288 with 1 Axes>"
      ]
     },
     "metadata": {
      "needs_background": "light"
     },
     "output_type": "display_data"
    }
   ],
   "source": [
    "#Solving Class imbalance problem\n",
    "                        ###using sampling method###\n",
    "\n",
    "# Random Over-Sampling\n",
    "class_low_over = class_low.sample(count_class_medium, replace=True)\n",
    "df_low_over = pd.concat([class_medium, class_low_over], axis=0)\n",
    "combined_dataset = df_low_over.append(class_high, ignore_index=True)\n",
    "print('Performing Over sampling technique to increase low class to medium class size while maintaining high class value')\n",
    "print(combined_dataset.G3_Class.value_counts(), '\\n')\n",
    "\n",
    "#class count\n",
    "count_class_medium, count_class_low, count_class_high = combined_dataset['G3_Class'].value_counts()\n",
    "# # Divide by class\n",
    "class_low = combined_dataset[combined_dataset['G3_Class'] == 'Low']\n",
    "class_medium = combined_dataset[combined_dataset['G3_Class'] == 'Medium']\n",
    "class_high = combined_dataset[combined_dataset['G3_Class'] == 'High']\n",
    "\n",
    "class_high_over = class_high.sample(count_class_medium, replace=True)\n",
    "df_high_over = pd.concat([class_medium, class_high_over], axis=0)\n",
    "dataset_final_sampling1 = df_high_over.append(class_low, ignore_index=True)\n",
    "print('Performing Over sampling technique to increase low class to medium class size while maintaining high class value')\n",
    "print(dataset_final_sampling1 .G3_Class.value_counts(),\"\\n\")\n",
    "\n",
    "#plotting dataset that has been sampled\n",
    "dataset_final_sampling1.G3_Class.value_counts().plot(kind='bar', title='Count (target)');"
   ]
  },
  {
   "cell_type": "code",
   "execution_count": 208,
   "metadata": {},
   "outputs": [
    {
     "name": "stdout",
     "output_type": "stream",
     "text": [
      "Performing EnCoding Of Categorical variables\n"
     ]
    }
   ],
   "source": [
    "#Encoding datasets and splitting datasets\n",
    "#DATASET ENCODING OF CATEGORICAL VARIABLES\n",
    "dataset_final_sampling1_copy = dataset_final_sampling1.copy() #copying the dataset to preserve original copy\n",
    "ord_enc_new = OrdinalEncoder() #encoder object\n",
    "\n",
    "#looping through all the categorical columns initailly found and applying encoding on it\n",
    "print('Performing EnCoding Of Categorical variables')\n",
    "\n",
    "dataset_final_sampling1_copy['G3_Class'] = ord_enc_new.fit_transform(dataset_final_sampling1_copy[['G3_Class']])\n",
    "features = dataset_final_sampling1_copy.drop(['G3','G3_Class'],axis=1)\n",
    "target = dataset_final_sampling1_copy['G3_Class']\n",
    "\n",
    "x_train_new, x_test_new, y_train_new, y_test_new = train_test_split(features,target, test_size = 0.2, random_state = 10)"
   ]
  },
  {
   "cell_type": "code",
   "execution_count": 209,
   "metadata": {},
   "outputs": [
    {
     "name": "stdout",
     "output_type": "stream",
     "text": [
      "shape of original dataset : (1440, 34)\n",
      "shape of input - training set (1152, 32)\n",
      "shape of output - training set (1152,)\n",
      "shape of input - testing set (288, 32)\n",
      "shape of output - testing set (288,)\n"
     ]
    }
   ],
   "source": [
    "#show summary of splitted datasets\n",
    "print(\"shape of original dataset :\", dataset_final_sampling1.shape)\n",
    "print(\"shape of input - training set\", x_train_new.shape)\n",
    "print(\"shape of output - training set\", y_train_new.shape)\n",
    "print(\"shape of input - testing set\", x_test_new.shape)\n",
    "print(\"shape of output - testing set\", y_test_new.shape)"
   ]
  },
  {
   "cell_type": "code",
   "execution_count": 210,
   "metadata": {},
   "outputs": [
    {
     "name": "stdout",
     "output_type": "stream",
     "text": [
      "1.0\n",
      "0.9826388888888888\n",
      "Accuracy: 0.9826388888888888\n",
      "Confusion Matrix:\n",
      " [[ 88   0   4]\n",
      " [  0 106   1]\n",
      " [  0   0  89]]\n",
      "              precision    recall  f1-score   support\n",
      "\n",
      "         low       0.96      1.00      0.98        88\n",
      "      medium       0.99      1.00      1.00       106\n",
      "        high       1.00      0.95      0.97        94\n",
      "\n",
      "    accuracy                           0.98       288\n",
      "   macro avg       0.98      0.98      0.98       288\n",
      "weighted avg       0.98      0.98      0.98       288\n",
      "\n"
     ]
    }
   ],
   "source": [
    "##Support Vector Machine\n",
    "svc_model = SVC(C= .1, kernel='poly', gamma= 1)\n",
    "svc_model.fit(x_train_new, y_train_new)\n",
    "  \n",
    "y_pred = svc_model.predict(x_test_new)\n",
    "# check the accuracy on the training set\n",
    "print(svc_model.score(x_train_new, y_train_new))\n",
    "print(svc_model.score(x_test_new, y_test_new))\n",
    "\n",
    "print(\"Accuracy:\",metrics.accuracy_score(y_test_new, y_pred))\n",
    "print(\"Confusion Matrix:\\n\",confusion_matrix(y_pred,y_test_new))\n",
    "print(classification_report(y_test_new, y_pred, target_names=['low', 'medium', 'high']))"
   ]
  },
  {
   "cell_type": "code",
   "execution_count": 211,
   "metadata": {},
   "outputs": [
    {
     "name": "stdout",
     "output_type": "stream",
     "text": [
      "Accuracy: 0.9895833333333334\n",
      "Confusion Matrix:\n",
      " [[ 88   0   3]\n",
      " [  0 106   0]\n",
      " [  0   0  91]]\n",
      "              precision    recall  f1-score   support\n",
      "\n",
      "         low       0.97      1.00      0.98        88\n",
      "      medium       1.00      1.00      1.00       106\n",
      "        high       1.00      0.97      0.98        94\n",
      "\n",
      "    accuracy                           0.99       288\n",
      "   macro avg       0.99      0.99      0.99       288\n",
      "weighted avg       0.99      0.99      0.99       288\n",
      "\n"
     ]
    }
   ],
   "source": [
    "#Random Forest Classfier\n",
    "clf=RandomForestClassifier(n_estimators=100)\n",
    "\n",
    "#Train the model using the training sets\n",
    "clf.fit(x_train_new,y_train_new)\n",
    "\n",
    "#making predictions from test features\n",
    "y_pred=clf.predict(x_test_new)\n",
    "\n",
    "print(\"Accuracy:\",metrics.accuracy_score(y_test_new, y_pred))\n",
    "print(\"Confusion Matrix:\\n\",confusion_matrix(y_pred,y_test_new))\n",
    "print(classification_report(y_test_new, y_pred, target_names=['low', 'medium', 'high']))"
   ]
  },
  {
   "cell_type": "code",
   "execution_count": 212,
   "metadata": {},
   "outputs": [
    {
     "name": "stdout",
     "output_type": "stream",
     "text": [
      "Accuracy: 0.9618055555555556\n",
      "Confusion Matrix:\n",
      " [[ 84   0   5]\n",
      " [  0 106   2]\n",
      " [  4   0  87]]\n",
      "              precision    recall  f1-score   support\n",
      "\n",
      "         low       0.94      0.95      0.95        88\n",
      "      medium       0.98      1.00      0.99       106\n",
      "        high       0.96      0.93      0.94        94\n",
      "\n",
      "    accuracy                           0.96       288\n",
      "   macro avg       0.96      0.96      0.96       288\n",
      "weighted avg       0.96      0.96      0.96       288\n",
      "\n"
     ]
    }
   ],
   "source": [
    "#Multi Layer Perception Neural Network\n",
    "# Create model object\n",
    "MLP_net = MLPClassifier(hidden_layer_sizes=(6,5),\n",
    "                    verbose=False,\n",
    "                    learning_rate_init=0.01)\n",
    "\n",
    "# Fit data onto the model\n",
    "MLP_net.fit(x_train_new,y_train_new)\n",
    "y_pred=MLP_net.predict(x_test_new)\n",
    "\n",
    "# Calcuate accuracy\n",
    "print(\"Accuracy:\",accuracy_score(y_test_new,y_pred))\n",
    "print(\"Confusion Matrix:\\n\",confusion_matrix(y_pred,y_test_new))\n",
    "print(classification_report(y_test_new, y_pred, target_names=['low', 'medium', 'high']))"
   ]
  }
 ],
 "metadata": {
  "interpreter": {
   "hash": "f9013e23377c4df86dc09c341e3e8e9dd81c02c4de203807e1a62a3a9bc38c81"
  },
  "kernelspec": {
   "display_name": "Python 3.9.7 ('base')",
   "language": "python",
   "name": "python3"
  },
  "language_info": {
   "codemirror_mode": {
    "name": "ipython",
    "version": 3
   },
   "file_extension": ".py",
   "mimetype": "text/x-python",
   "name": "python",
   "nbconvert_exporter": "python",
   "pygments_lexer": "ipython3",
   "version": "3.9.7"
  },
  "orig_nbformat": 4
 },
 "nbformat": 4,
 "nbformat_minor": 2
}
